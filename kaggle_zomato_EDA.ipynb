{
 "cells": [
  {
   "cell_type": "code",
   "execution_count": 1,
   "id": "4c1b2fa6-f0ef-4b23-8fec-ac3974db0845",
   "metadata": {},
   "outputs": [
    {
     "name": "stdout",
     "output_type": "stream",
     "text": [
      "Requirement already satisfied: numpy in c:\\users\\lekha\\appdata\\local\\programs\\python\\python313\\lib\\site-packages (2.3.2)\n"
     ]
    },
    {
     "name": "stderr",
     "output_type": "stream",
     "text": [
      "\n",
      "[notice] A new release of pip is available: 25.1.1 -> 25.2\n",
      "[notice] To update, run: C:\\Users\\lekha\\AppData\\Local\\Programs\\Python\\Python313\\python.exe -m pip install --upgrade pip\n"
     ]
    },
    {
     "name": "stdout",
     "output_type": "stream",
     "text": [
      "Requirement already satisfied: pandas in c:\\users\\lekha\\appdata\\local\\programs\\python\\python313\\lib\\site-packages (2.3.2)\n",
      "Requirement already satisfied: numpy>=1.26.0 in c:\\users\\lekha\\appdata\\local\\programs\\python\\python313\\lib\\site-packages (from pandas) (2.3.2)\n",
      "Requirement already satisfied: python-dateutil>=2.8.2 in c:\\users\\lekha\\appdata\\local\\programs\\python\\python313\\lib\\site-packages (from pandas) (2.9.0.post0)\n",
      "Requirement already satisfied: pytz>=2020.1 in c:\\users\\lekha\\appdata\\local\\programs\\python\\python313\\lib\\site-packages (from pandas) (2025.2)\n",
      "Requirement already satisfied: tzdata>=2022.7 in c:\\users\\lekha\\appdata\\local\\programs\\python\\python313\\lib\\site-packages (from pandas) (2025.2)\n",
      "Requirement already satisfied: six>=1.5 in c:\\users\\lekha\\appdata\\local\\programs\\python\\python313\\lib\\site-packages (from python-dateutil>=2.8.2->pandas) (1.17.0)\n"
     ]
    },
    {
     "name": "stderr",
     "output_type": "stream",
     "text": [
      "\n",
      "[notice] A new release of pip is available: 25.1.1 -> 25.2\n",
      "[notice] To update, run: C:\\Users\\lekha\\AppData\\Local\\Programs\\Python\\Python313\\python.exe -m pip install --upgrade pip\n"
     ]
    },
    {
     "name": "stdout",
     "output_type": "stream",
     "text": [
      "Requirement already satisfied: matplotlib in c:\\users\\lekha\\appdata\\local\\programs\\python\\python313\\lib\\site-packages (3.10.6)\n",
      "Requirement already satisfied: contourpy>=1.0.1 in c:\\users\\lekha\\appdata\\local\\programs\\python\\python313\\lib\\site-packages (from matplotlib) (1.3.3)\n",
      "Requirement already satisfied: cycler>=0.10 in c:\\users\\lekha\\appdata\\local\\programs\\python\\python313\\lib\\site-packages (from matplotlib) (0.12.1)\n",
      "Requirement already satisfied: fonttools>=4.22.0 in c:\\users\\lekha\\appdata\\local\\programs\\python\\python313\\lib\\site-packages (from matplotlib) (4.59.2)\n",
      "Requirement already satisfied: kiwisolver>=1.3.1 in c:\\users\\lekha\\appdata\\local\\programs\\python\\python313\\lib\\site-packages (from matplotlib) (1.4.9)\n",
      "Requirement already satisfied: numpy>=1.23 in c:\\users\\lekha\\appdata\\local\\programs\\python\\python313\\lib\\site-packages (from matplotlib) (2.3.2)\n",
      "Requirement already satisfied: packaging>=20.0 in c:\\users\\lekha\\appdata\\local\\programs\\python\\python313\\lib\\site-packages (from matplotlib) (25.0)\n",
      "Requirement already satisfied: pillow>=8 in c:\\users\\lekha\\appdata\\local\\programs\\python\\python313\\lib\\site-packages (from matplotlib) (11.3.0)\n",
      "Requirement already satisfied: pyparsing>=2.3.1 in c:\\users\\lekha\\appdata\\local\\programs\\python\\python313\\lib\\site-packages (from matplotlib) (3.2.3)\n",
      "Requirement already satisfied: python-dateutil>=2.7 in c:\\users\\lekha\\appdata\\local\\programs\\python\\python313\\lib\\site-packages (from matplotlib) (2.9.0.post0)\n",
      "Requirement already satisfied: six>=1.5 in c:\\users\\lekha\\appdata\\local\\programs\\python\\python313\\lib\\site-packages (from python-dateutil>=2.7->matplotlib) (1.17.0)\n"
     ]
    },
    {
     "name": "stderr",
     "output_type": "stream",
     "text": [
      "\n",
      "[notice] A new release of pip is available: 25.1.1 -> 25.2\n",
      "[notice] To update, run: C:\\Users\\lekha\\AppData\\Local\\Programs\\Python\\Python313\\python.exe -m pip install --upgrade pip\n"
     ]
    },
    {
     "name": "stdout",
     "output_type": "stream",
     "text": [
      "Requirement already satisfied: seaborn in c:\\users\\lekha\\appdata\\local\\programs\\python\\python313\\lib\\site-packages (0.13.2)\n",
      "Requirement already satisfied: numpy!=1.24.0,>=1.20 in c:\\users\\lekha\\appdata\\local\\programs\\python\\python313\\lib\\site-packages (from seaborn) (2.3.2)\n",
      "Requirement already satisfied: pandas>=1.2 in c:\\users\\lekha\\appdata\\local\\programs\\python\\python313\\lib\\site-packages (from seaborn) (2.3.2)\n",
      "Requirement already satisfied: matplotlib!=3.6.1,>=3.4 in c:\\users\\lekha\\appdata\\local\\programs\\python\\python313\\lib\\site-packages (from seaborn) (3.10.6)\n",
      "Requirement already satisfied: contourpy>=1.0.1 in c:\\users\\lekha\\appdata\\local\\programs\\python\\python313\\lib\\site-packages (from matplotlib!=3.6.1,>=3.4->seaborn) (1.3.3)\n",
      "Requirement already satisfied: cycler>=0.10 in c:\\users\\lekha\\appdata\\local\\programs\\python\\python313\\lib\\site-packages (from matplotlib!=3.6.1,>=3.4->seaborn) (0.12.1)\n",
      "Requirement already satisfied: fonttools>=4.22.0 in c:\\users\\lekha\\appdata\\local\\programs\\python\\python313\\lib\\site-packages (from matplotlib!=3.6.1,>=3.4->seaborn) (4.59.2)\n",
      "Requirement already satisfied: kiwisolver>=1.3.1 in c:\\users\\lekha\\appdata\\local\\programs\\python\\python313\\lib\\site-packages (from matplotlib!=3.6.1,>=3.4->seaborn) (1.4.9)\n",
      "Requirement already satisfied: packaging>=20.0 in c:\\users\\lekha\\appdata\\local\\programs\\python\\python313\\lib\\site-packages (from matplotlib!=3.6.1,>=3.4->seaborn) (25.0)\n",
      "Requirement already satisfied: pillow>=8 in c:\\users\\lekha\\appdata\\local\\programs\\python\\python313\\lib\\site-packages (from matplotlib!=3.6.1,>=3.4->seaborn) (11.3.0)\n",
      "Requirement already satisfied: pyparsing>=2.3.1 in c:\\users\\lekha\\appdata\\local\\programs\\python\\python313\\lib\\site-packages (from matplotlib!=3.6.1,>=3.4->seaborn) (3.2.3)\n",
      "Requirement already satisfied: python-dateutil>=2.7 in c:\\users\\lekha\\appdata\\local\\programs\\python\\python313\\lib\\site-packages (from matplotlib!=3.6.1,>=3.4->seaborn) (2.9.0.post0)\n",
      "Requirement already satisfied: pytz>=2020.1 in c:\\users\\lekha\\appdata\\local\\programs\\python\\python313\\lib\\site-packages (from pandas>=1.2->seaborn) (2025.2)\n",
      "Requirement already satisfied: tzdata>=2022.7 in c:\\users\\lekha\\appdata\\local\\programs\\python\\python313\\lib\\site-packages (from pandas>=1.2->seaborn) (2025.2)\n",
      "Requirement already satisfied: six>=1.5 in c:\\users\\lekha\\appdata\\local\\programs\\python\\python313\\lib\\site-packages (from python-dateutil>=2.7->matplotlib!=3.6.1,>=3.4->seaborn) (1.17.0)\n"
     ]
    },
    {
     "name": "stderr",
     "output_type": "stream",
     "text": [
      "\n",
      "[notice] A new release of pip is available: 25.1.1 -> 25.2\n",
      "[notice] To update, run: C:\\Users\\lekha\\AppData\\Local\\Programs\\Python\\Python313\\python.exe -m pip install --upgrade pip\n"
     ]
    }
   ],
   "source": [
    "!pip install numpy\n",
    "!pip install pandas\n",
    "import numpy as np\n",
    "import pandas as pd\n",
    "!pip install matplotlib\n",
    "from matplotlib import pyplot as plt\n",
    "import numpy as np\n",
    "!pip install seaborn\n",
    "import seaborn as sns"
   ]
  },
  {
   "cell_type": "code",
   "execution_count": null,
   "id": "0307f93d-f8a4-4544-805c-be022fc6f286",
   "metadata": {},
   "outputs": [],
   "source": [
    "data.isnull()"
   ]
  },
  {
   "cell_type": "code",
   "execution_count": null,
   "id": "5fa3a61f-f7d0-4d99-946e-214034cc87fe",
   "metadata": {},
   "outputs": [],
   "source": [
    "data.isnull().sum()"
   ]
  },
  {
   "cell_type": "code",
   "execution_count": null,
   "id": "139a44a0-c9ce-4b52-aeb0-ad8ae77d19b2",
   "metadata": {},
   "outputs": [],
   "source": [
    "data.info()"
   ]
  },
  {
   "cell_type": "code",
   "execution_count": null,
   "id": "eab203e2-929b-4e17-bbc6-20056e1c184f",
   "metadata": {},
   "outputs": [],
   "source": [
    "data.describe()"
   ]
  },
  {
   "cell_type": "code",
   "execution_count": null,
   "id": "a5db8935-6b8d-4528-b64a-e892a3a75b77",
   "metadata": {},
   "outputs": [],
   "source": [
    "print(data.drop(['rest_type'], axis=1))"
   ]
  },
  {
   "cell_type": "code",
   "execution_count": null,
   "id": "388e5a6b-1d2c-402f-9bf9-f8d99212c72e",
   "metadata": {},
   "outputs": [],
   "source": [
    "data.head()"
   ]
  },
  {
   "cell_type": "code",
   "execution_count": null,
   "id": "177ea15a-2b7d-4362-b021-04265f8e9c1a",
   "metadata": {},
   "outputs": [],
   "source": [
    "data['rate'].unique()"
   ]
  },
  {
   "cell_type": "code",
   "execution_count": null,
   "id": "cf477186-6a44-4ea3-840f-aad2cca9e665",
   "metadata": {},
   "outputs": [],
   "source": [
    "data.columns"
   ]
  },
  {
   "cell_type": "code",
   "execution_count": null,
   "id": "f8d5a677-3ae0-479c-8167-7694e55c8367",
   "metadata": {},
   "outputs": [],
   "source": [
    "data[['rate','location']]"
   ]
  },
  {
   "cell_type": "code",
   "execution_count": null,
   "id": "e1464804-cd4f-4a52-9f92-5c3ae917cfa6",
   "metadata": {},
   "outputs": [],
   "source": [
    "y = data[data.votes>=5000]\n",
    "print(y)"
   ]
  },
  {
   "cell_type": "code",
   "execution_count": null,
   "id": "a766805c-b2b6-4907-9510-fd72562f74d2",
   "metadata": {},
   "outputs": [],
   "source": [
    "data.location.values"
   ]
  },
  {
   "cell_type": "code",
   "execution_count": null,
   "id": "be21900f-d3f6-4bca-a6e5-ef5e02cddee9",
   "metadata": {},
   "outputs": [],
   "source": [
    "data.shape"
   ]
  },
  {
   "cell_type": "code",
   "execution_count": null,
   "id": "f9676bd8-b8f0-49f2-9b41-07aaf7c89ff1",
   "metadata": {},
   "outputs": [],
   "source": [
    "data.duplicated()"
   ]
  },
  {
   "cell_type": "code",
   "execution_count": null,
   "id": "3c864099-19c9-41b9-b9be-bb7ef8d28cc1",
   "metadata": {},
   "outputs": [],
   "source": [
    "data['rate'] = data['rate'].replace(['NEW', '-', 'Not Rated Yet', 'Excellent'], None)\n",
    "print(data['rate'].tail(20))"
   ]
  },
  {
   "cell_type": "code",
   "execution_count": null,
   "id": "08960bbf-8169-4a24-ace1-af0c7d22b666",
   "metadata": {},
   "outputs": [],
   "source": [
    "mean=data['votes'].mean()\n",
    "print(mean)"
   ]
  },
  {
   "cell_type": "code",
   "execution_count": null,
   "id": "6421b658-25e8-4b7d-908c-12dd2b475b0c",
   "metadata": {},
   "outputs": [],
   "source": [
    "print(data.loc[5,'rate'])\n",
    "print(data.loc[5:10,['location','votes']])\n",
    "print(data.iloc[[15,20,25],[4,9]])"
   ]
  },
  {
   "cell_type": "code",
   "execution_count": null,
   "id": "62c4bbec-3eef-4e3d-b839-06f57ad121e4",
   "metadata": {},
   "outputs": [],
   "source": [
    "new_data = data.drop(['book_table'],axis=1,inplace=True)\n",
    "print(new_data)"
   ]
  },
  {
   "cell_type": "code",
   "execution_count": null,
   "id": "1985a27a-2e9b-458d-9111-0d53eb5216f5",
   "metadata": {},
   "outputs": [],
   "source": [
    "print(data.transpose())"
   ]
  },
  {
   "cell_type": "code",
   "execution_count": null,
   "id": "faf82019-7d19-4e26-a2d6-ec49893ffba1",
   "metadata": {},
   "outputs": [],
   "source": [
    "data['votes'].fillna(mean)"
   ]
  },
  {
   "cell_type": "code",
   "execution_count": null,
   "id": "5808ad3f-f29a-4222-ae05-d01eed43537d",
   "metadata": {},
   "outputs": [],
   "source": [
    "data['votes'].isnull().sum()"
   ]
  },
  {
   "cell_type": "code",
   "execution_count": null,
   "id": "653fe381-1b55-4f55-9834-153b1dbeecc4",
   "metadata": {},
   "outputs": [],
   "source": [
    "\n",
    "d = pd.Categorical(data['online_order'])\n",
    "print(d)"
   ]
  },
  {
   "cell_type": "code",
   "execution_count": null,
   "id": "a0615ba0-c104-4c75-a072-ee2f0997ccdd",
   "metadata": {},
   "outputs": [],
   "source": [
    "data[\"location\"].value_counts()\n"
   ]
  },
  {
   "cell_type": "code",
   "execution_count": null,
   "id": "5ec06f1a-feea-4dab-81ff-d92684dff089",
   "metadata": {},
   "outputs": [],
   "source": [
    "data['votes']=data.['votes'].apply(remove.comma)"
   ]
  },
  {
   "cell_type": "code",
   "execution_count": null,
   "id": "98d0bd5f-35ef-42fb-b271-ce4aa74e580e",
   "metadata": {},
   "outputs": [],
   "source": [
    "print(data['votes'].head(20))"
   ]
  },
  {
   "cell_type": "code",
   "execution_count": null,
   "id": "caa503a4-93ca-440a-b5aa-9050fc88e8dd",
   "metadata": {},
   "outputs": [],
   "source": [
    "def votes_category(v):\n",
    "    if v<=300:\n",
    "        return 'other'\n",
    "    else:\n",
    "        return v\n",
    "data['votes']=data['votes'].apply(votes_category)\n",
    "print(data['votes'])\n",
    "\n"
   ]
  },
  {
   "cell_type": "code",
   "execution_count": null,
   "id": "83c59917-6c6f-4a62-bcfe-a5585a0f7461",
   "metadata": {},
   "outputs": [],
   "source": [
    "data"
   ]
  },
  {
   "cell_type": "code",
   "execution_count": null,
   "id": "12263672-71ea-42b3-a697-a9c3b1bc55b0",
   "metadata": {},
   "outputs": [],
   "source": [
    "!pip install matplotlib\n",
    "from matplotlib import pyplot as plt\n",
    "import numpy as np\n",
    "!piip install seaborn\n",
    "import seaborn as sns\n",
    "sns.countplot(x='online_order',data=data)\n",
    "plt.title(\"online/Offline\")\n",
    "plt.xlabel('online_order(Yes/No)')\n",
    "plt.ylabel('count')\n",
    "plt.show()"
   ]
  },
  {
   "cell_type": "code",
   "execution_count": null,
   "id": "62537f13-75de-4f23-ac9c-84064c189788",
   "metadata": {},
   "outputs": [],
   "source": [
    "plt.figure(figsize=(10,5))\n",
    "sns.countplot(y='rest_type',\n",
    "              data=data,\n",
    "              order=data['rest_type'].value_counts().index[:10])\n",
    "plt.title(\"Restaurants\")\n",
    "plt.show()\n",
    "           "
   ]
  },
  {
   "cell_type": "code",
   "execution_count": null,
   "id": "c6dd6251-502f-4b4f-b9b3-b103788b9413",
   "metadata": {},
   "outputs": [],
   "source": [
    "plt.figure(figsize=(10,5))\n",
    "sns.countplot(x='cuisines',\n",
    "              data=data,\n",
    "              order=data['cuisines'].value_counts().index[:10])\n",
    "plt.title('Restaurant cuisines')\n",
    "plt.show()\n"
   ]
  },
  {
   "cell_type": "code",
   "execution_count": null,
   "id": "ba4c40ac-3e2c-40c9-9f08-45e74a31131c",
   "metadata": {},
   "outputs": [],
   "source": [
    "plt.figure(figsize=(10,5))\n",
    "sns.histplot(x=\"rate\",data=data,bins=20,kde=True,color='skyblue')\n",
    "plt.title(\"Restaurant\")\n",
    "plt.xlabel(\"Restaurant Ratings\")\n",
    "plt.ylabel(\"Count\")\n",
    "plt.show()"
   ]
  },
  {
   "cell_type": "code",
   "execution_count": null,
   "id": "eb4ebb5a-361a-4705-9e5e-f56325f7066c",
   "metadata": {},
   "outputs": [],
   "source": [
    "import matplotlib.pyplot as plt\n",
    "import seaborn as sns\n",
    "set=data.iloc[1:5]\n",
    "plt.figure(figsize=(8,6))\n",
    "sns.scatterplot(x=\"approx_cost(for two people)\",y=\"rate\",data=data,hue='online_order')\n",
    "plt.title(plt.title(\"Restaurant rates vs Cost for Two People\"))\n",
    "plt.xlabel(\"Approx Cost for Two People\")\n",
    "plt.ylabel(\"Number of rates\")\n",
    "plt.show()"
   ]
  },
  {
   "cell_type": "code",
   "execution_count": null,
   "id": "1f663e71-4465-4831-9c4b-ebd7b0713526",
   "metadata": {},
   "outputs": [],
   "source": [
    "!pip install pandas\n",
    "import pandas as pd\n",
    "data['rate']=pd.to_numeric(data['rate'],errors='coerce')\n",
    "data['approx_cost(for two people)']=pd.to_numeric(data['rate'],errors='coerce')\n",
    "data['votes']=pd.to_numeric(data['votes'],errors='coerce')\n",
    "corr=data.corr(numeric_only=True)\n",
    "plt.figure(figsize=(8,6))\n",
    "sns.heatmap(corr,annot=True,cmap=\"YlGnBu\", linewidths=0.5)\n",
    "plt.title(\"Correlation Heatmap of Restaurant Data\")\n",
    "plt.show()"
   ]
  },
  {
   "cell_type": "code",
   "execution_count": null,
   "id": "0a01a58c-d58d-4389-b11c-71b17cc7a187",
   "metadata": {},
   "outputs": [],
   "source": [
    "import numpy as np\n",
    "a=np.array(data['votes'])\n",
    "plt.hist(a,bins=[100,500,800,1000],color='g')\n",
    "plt.title(\"result\")\n",
    "plt.xticks([100,500,800,1000])\n",
    "plt.xlabel('people')\n",
    "plt.ylabel('no.of votes')\n",
    "plt.show()\n"
   ]
  },
  {
   "cell_type": "code",
   "execution_count": null,
   "id": "ddaa0559-5f02-42bb-815a-a7399c40ab83",
   "metadata": {},
   "outputs": [],
   "source": [
    "import pandas as pd\n",
    "import matplotlib.pyplot as plt\n",
    "\n",
    "\n",
    "data = pd.DataFrame({\n",
    "    'votes': [120, 450, 600, 250, 720, 310, 150]\n",
    "})\n",
    "\n",
    "bins=[0,100,300,500,800]\n",
    "labels=['0-100','101-300','301-500','501-800']\n",
    "e=[0.1,0,0,0]\n",
    "colors=['orange','green','blue','yellow']\n",
    "data['votes_bins']=pd.cut(data['votes'],bins=bins,labels=labels)\n",
    "vote_counts=data['votes_bins'].value_counts().sort_index()\n",
    "plt.pie(vote_counts,labels=vote_counts.index,autopct='%1.1f%%',explode=e,colors=colors,startangle=90)\n",
    "plt.title('pie')\n",
    "plt.show()\n",
    "\n"
   ]
  },
  {
   "cell_type": "code",
   "execution_count": null,
   "id": "d6265ee6-70c7-459c-a69b-76784709111e",
   "metadata": {},
   "outputs": [],
   "source": [
    "l=[0,100,300,500,800,1000]\n",
    "df=pd.DataFrame(l,columns=['votes'])\n",
    "df\n",
    "sns.boxplot(df['votes'])\n",
    "\n",
    "        "
   ]
  },
  {
   "cell_type": "code",
   "execution_count": null,
   "id": "beca601d-97d5-4174-accf-70a2668165a7",
   "metadata": {},
   "outputs": [],
   "source": [
    "import pandas as pd\n",
    "\n",
    "data = pd.read_csv(\"zomato_kagel.csv\")\n",
    "print(data.head())  # shows"
   ]
  },
  {
   "cell_type": "code",
   "execution_count": null,
   "id": "25ca99b0-0ab1-48f9-bc84-d7a8533a6950",
   "metadata": {},
   "outputs": [],
   "source": [
    "!pip install numpy\n",
    "!pip install pandas\n",
    "import numpy as np\n",
    "import pandas as pd\n",
    "data = pd.read_csv(\"kaggle_zomato_EDA.csv\")\n",
    "\n",
    "# Example: Plot ratings distribution\n",
    "plt.figure(figsize=(10,6))\n",
    "# Remove '/5' and convert to float\n",
    "ratings = data['rate'].dropna().str.replace('/5','').astype(float)\n",
    "sns.histplot(ratings, bins=20, kde=True)\n",
    "plt.title(\"Zomato Restaurant Ratings Distribution\")\n",
    "plt.xlabel(\"Rating\")\n",
    "plt.ylabel(\"Count\")\n",
    "plt.show()"
   ]
  },
  {
   "cell_type": "code",
   "execution_count": null,
   "id": "dae49c40-b3d5-436d-b9b0-28fa947899d1",
   "metadata": {},
   "outputs": [],
   "source": [
    "!pip install matplotlib\n",
    "from matplotlib import pyplot as plt\n",
    "plt.figure(figsize=(6,4))\n",
    "sns.countplot(x='online_order', data=data, palette='pastel')\n",
    "plt.title('Restaurants Offering Online Orders')\n",
    "plt.xlabel('Online Order Available')\n",
    "plt.ylabel('Number of Restaurants')\n",
    "plt.savefig('online_order_count.png')\n",
    "plt.show()"
   ]
  },
  {
   "cell_type": "code",
   "execution_count": null,
   "id": "b15cc6e2-a1eb-4acb-b56c-685b1157be8f",
   "metadata": {},
   "outputs": [],
   "source": [
    "import pandas as pd\n",
    "\n",
    "# Load your Zomato dataset\n",
    "data = pd.read_csv(\"kaggle_zomato_EDA.csv\")\n",
    "\n",
    "# Quick check\n",
    "print(data.head())"
   ]
  },
  {
   "cell_type": "code",
   "execution_count": null,
   "id": "f459856c-ccdc-4ebb-b02e-c0ba171eb37c",
   "metadata": {},
   "outputs": [],
   "source": [
    "import os \n",
    "print(os.getcwd())"
   ]
  },
  {
   "cell_type": "code",
   "execution_count": null,
   "id": "355aac06-12df-43d5-af3e-5cea52edec1f",
   "metadata": {},
   "outputs": [],
   "source": [
    "import pandas as pd\n",
    "\n",
    "# Use the full path to your CSV\n",
    "data = pd.read_csv(r\"C:\\e_book\\july_2025\\kaggle_zomato_EDA.csv\")\n",
    "\n",
    "# Quick check\n",
    "print(data.head())"
   ]
  },
  {
   "cell_type": "code",
   "execution_count": null,
   "id": "babed81f-1c01-4a77-94e2-731aceef1e91",
   "metadata": {},
   "outputs": [],
   "source": [
    "import os\n",
    "\n",
    "print(os.listdir(r\"C:\\e_book\\july_2025\"))\n"
   ]
  },
  {
   "cell_type": "code",
   "execution_count": null,
   "id": "cbc3792e-da63-4f4d-addd-5fc5574f8887",
   "metadata": {},
   "outputs": [],
   "source": [
    "import pandas as pd\n",
    "\n",
    "# Load the Zomato dataset\n",
    "data = pd.read_csv(r\"C:\\e_book\\july_2025\\zomato.csv\")  # make sure the path is correct\n",
    "\n",
    "# Check first few rows to confirm it loaded correctly\n",
    "print(data.head())\n",
    "\n",
    "# Optionally, save it as a new CSV for your EDA project\n",
    "data.to_csv(r\"C:\\e_book\\july_2025\\kaggle_zomato_EDA.csv\", index=False)\n",
    "print(\"CSV file saved successfully!\")"
   ]
  },
  {
   "cell_type": "code",
   "execution_count": null,
   "id": "6b91de88-2c0d-484d-8fa2-b2321ff782d3",
   "metadata": {},
   "outputs": [],
   "source": [
    "import os\n",
    "print(os.getcwd())  # shows current working directory\n",
    "print(os.listdir())  # lists all"
   ]
  },
  {
   "cell_type": "code",
   "execution_count": null,
   "id": "f1d0e0e8-2c49-4a07-9de2-62590242b6d2",
   "metadata": {},
   "outputs": [],
   "source": [
    "import zipfile\n",
    "import pandas as pd\n",
    "\n",
    "zip_path = r\"C:\\e_book\\july_2025\\zomato.csv.zip\"\n",
    "\n",
    "# Check contents of the zip\n",
    "with zipfile.ZipFile(zip_path, 'r') as zip_ref:\n",
    "    print(zip_ref.namelist())  # see the exact CSV name\n",
    "\n",
    "# Extract the zip\n",
    "with zipfile.ZipFile(zip_path, 'r') as zip_ref:\n",
    "    zip_ref.extractall(r\"C:\\e_book\\july_2025\")\n",
    "\n",
    "# Load CSV safely\n",
    "csv_path = r\"C:\\e_book\\july_2025\\zomato.csv\"  # replace with actual CSV name if different\n",
    "data = pd.read_csv(csv_path, on_bad_lines='skip', encoding='utf-8', engine='python')\n",
    "\n",
    "# Show first 5 rows\n",
    "data.head()"
   ]
  },
  {
   "cell_type": "code",
   "execution_count": null,
   "id": "022c4bf9-225d-483a-a881-a72381d0bbe0",
   "metadata": {},
   "outputs": [],
   "source": [
    "import pandas as pd\n",
    "\n",
    "# Path to your CSV\n",
    "csv_path = r\"C:\\e_book\\july_2025\\zomato.csv\"\n",
    "\n",
    "# Load CSV safely\n",
    "data = pd.read_csv(csv_path, on_bad_lines='skip', engine='python', encoding='utf-8')\n",
    "\n",
    "# Quick check\n",
    "print(data.head())      # first 5 rows\n",
    "print(data.shape)       # number of rows and columns\n",
    "\n",
    "# Save a clean CSV in your working directory\n",
    "data.to_csv(r\"C:\\e_book\\july_2025\\kaggle_zomato_EDA.csv\", index=False)\n",
    "print(\"CSV saved successfully!\")"
   ]
  },
  {
   "cell_type": "code",
   "execution_count": null,
   "id": "344d9bdc-2f07-4efe-9150-37d8d2ec6c2a",
   "metadata": {},
   "outputs": [],
   "source": []
  }
 ],
 "metadata": {
  "kernelspec": {
   "display_name": "Python 3 (ipykernel)",
   "language": "python",
   "name": "python3"
  },
  "language_info": {
   "codemirror_mode": {
    "name": "ipython",
    "version": 3
   },
   "file_extension": ".py",
   "mimetype": "text/x-python",
   "name": "python",
   "nbconvert_exporter": "python",
   "pygments_lexer": "ipython3",
   "version": "3.13.5"
  }
 },
 "nbformat": 4,
 "nbformat_minor": 5
}
